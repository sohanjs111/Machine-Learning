{
 "cells": [
  {
   "cell_type": "markdown",
   "id": "ab1f5f4e",
   "metadata": {
    "id": "ab1f5f4e"
   },
   "source": [
    "# Simple Linear Regression"
   ]
  },
  {
   "cell_type": "markdown",
<<<<<<< HEAD
   "id": "fac72692",
   "metadata": {},
   "source": [
    "## Import the libraries "
   ]
  },
  {
   "cell_type": "code",
   "execution_count": 13,
   "id": "b75f8d3e",
   "metadata": {},
   "outputs": [],
   "source": [
    "import numpy as np\n",
    "import matplotlib.pyplot as plt\n",
    "import pandas as pd\n",
    "from tabulate import tabulate"
   ]
  },
  {
   "cell_type": "markdown",
=======
>>>>>>> 2663b429d598b4eef28ed5a32acef38d27f4f441
   "id": "b887f891",
   "metadata": {
    "id": "b887f891"
   },
   "source": [
    "## Import the dataset"
   ]
  },
  {
<<<<<<< HEAD
   "cell_type": "markdown",
   "id": "0e3eb49c",
   "metadata": {},
   "source": [
    "The read_csv function reads the data in csv format.\n",
    "The link is a RawGit url. "
   ]
  },
  {
   "cell_type": "code",
   "execution_count": 3,
=======
   "cell_type": "code",
   "execution_count": 9,
>>>>>>> 2663b429d598b4eef28ed5a32acef38d27f4f441
   "id": "f8f7f3f1",
   "metadata": {
    "colab": {
     "base_uri": "https://localhost:8080/",
     "height": 206
    },
    "id": "f8f7f3f1",
    "outputId": "c55eeb36-e985-4720-95d6-25f6b09d8d51"
   },
<<<<<<< HEAD
   "outputs": [],
   "source": [
    "df = pd.read_csv('https://raw.githubusercontent.com/sohanjs111/Machine-Learning/main/Regression/simple_linear_regression/Salary_Data.csv')\n",
    "X=df.iloc[:, :-1].values \n",
    "y=df.iloc[:, -1].values  "
   ]
  },
  {
   "cell_type": "markdown",
   "id": "80476eb6",
   "metadata": {},
   "source": [
    "X contains independent variables which is years of experience.\n",
    "\n",
    "y contains dependent variables which is salary"
   ]
  },
  {
   "cell_type": "code",
   "execution_count": 4,
   "id": "119ed5b0",
   "metadata": {},
   "outputs": [
    {
     "data": {
      "text/html": [
       "<div>\n",
       "<style scoped>\n",
       "    .dataframe tbody tr th:only-of-type {\n",
       "        vertical-align: middle;\n",
       "    }\n",
       "\n",
       "    .dataframe tbody tr th {\n",
       "        vertical-align: top;\n",
       "    }\n",
       "\n",
       "    .dataframe thead th {\n",
       "        text-align: right;\n",
       "    }\n",
       "</style>\n",
       "<table border=\"1\" class=\"dataframe\">\n",
       "  <thead>\n",
       "    <tr style=\"text-align: right;\">\n",
       "      <th></th>\n",
       "      <th>YearsExperience</th>\n",
       "      <th>Salary</th>\n",
       "    </tr>\n",
       "  </thead>\n",
       "  <tbody>\n",
       "    <tr>\n",
       "      <th>0</th>\n",
       "      <td>1.1</td>\n",
       "      <td>39343.0</td>\n",
       "    </tr>\n",
       "    <tr>\n",
       "      <th>1</th>\n",
       "      <td>1.3</td>\n",
       "      <td>46205.0</td>\n",
       "    </tr>\n",
       "    <tr>\n",
       "      <th>2</th>\n",
       "      <td>1.5</td>\n",
       "      <td>37731.0</td>\n",
       "    </tr>\n",
       "    <tr>\n",
       "      <th>3</th>\n",
       "      <td>2.0</td>\n",
       "      <td>43525.0</td>\n",
       "    </tr>\n",
       "    <tr>\n",
       "      <th>4</th>\n",
       "      <td>2.2</td>\n",
       "      <td>39891.0</td>\n",
       "    </tr>\n",
       "  </tbody>\n",
       "</table>\n",
       "</div>"
      ],
      "text/plain": [
       "   YearsExperience   Salary\n",
       "0              1.1  39343.0\n",
       "1              1.3  46205.0\n",
       "2              1.5  37731.0\n",
       "3              2.0  43525.0\n",
       "4              2.2  39891.0"
      ]
     },
     "execution_count": 4,
     "metadata": {},
     "output_type": "execute_result"
    }
   ],
   "source": [
    "df.head()"
   ]
  },
  {
   "cell_type": "markdown",
   "id": "b31fe2cc",
   "metadata": {
    "id": "b31fe2cc"
   },
   "source": [
    "## Splitting the dataset into the Training set and Test set"
   ]
  },
  {
   "cell_type": "code",
   "execution_count": 5,
   "id": "62062b75",
   "metadata": {
    "id": "62062b75"
   },
   "outputs": [],
   "source": [
    "from sklearn.model_selection import train_test_split\n",
    "X_train, X_test, y_train, y_test = train_test_split(X, y, test_size=0.33, random_state=0) "
   ]
  },
  {
   "cell_type": "markdown",
   "id": "1cf15f9e",
   "metadata": {},
   "source": [
    "The data is randomly split into train set and test set, where the size of test set is 1/3 of the total dataset size. "
   ]
  },
  {
   "cell_type": "code",
   "execution_count": 15,
   "id": "51246b36",
   "metadata": {},
   "outputs": [
    {
     "name": "stdout",
     "output_type": "stream",
     "text": [
      "[2.9] 56642.0\n",
      "[5.1] 66029.0\n",
      "[3.2] 64445.0\n",
      "[4.5] 61111.0\n",
      "[8.2] 113812.0\n",
      "[6.8] 91738.0\n",
      "[1.3] 46205.0\n",
      "[10.5] 121872.0\n",
      "[3.] 60150.0\n",
      "[2.2] 39891.0\n",
      "[5.9] 81363.0\n",
      "[6.] 93940.0\n",
      "[3.7] 57189.0\n",
      "[3.2] 54445.0\n",
      "[9.] 105582.0\n",
      "[2.] 43525.0\n",
      "[1.1] 39343.0\n",
      "[7.1] 98273.0\n",
      "[4.9] 67938.0\n",
      "[4.] 56957.0\n"
     ]
    }
   ],
   "source": [
    "for i in range(len(X_train)):\n",
    "    print(X_train[i], y_train[i])"
=======
   "outputs": [
    {
     "data": {
      "text/html": [
       "\n",
       "  <div id=\"df-f81fa0fd-64ce-4396-b970-72a33f6cdd60\">\n",
       "    <div class=\"colab-df-container\">\n",
       "      <div>\n",
       "<style scoped>\n",
       "    .dataframe tbody tr th:only-of-type {\n",
       "        vertical-align: middle;\n",
       "    }\n",
       "\n",
       "    .dataframe tbody tr th {\n",
       "        vertical-align: top;\n",
       "    }\n",
       "\n",
       "    .dataframe thead th {\n",
       "        text-align: right;\n",
       "    }\n",
       "</style>\n",
       "<table border=\"1\" class=\"dataframe\">\n",
       "  <thead>\n",
       "    <tr style=\"text-align: right;\">\n",
       "      <th></th>\n",
       "      <th>YearsExperience</th>\n",
       "      <th>Salary</th>\n",
       "    </tr>\n",
       "  </thead>\n",
       "  <tbody>\n",
       "    <tr>\n",
       "      <th>0</th>\n",
       "      <td>1.1</td>\n",
       "      <td>39343.0</td>\n",
       "    </tr>\n",
       "    <tr>\n",
       "      <th>1</th>\n",
       "      <td>1.3</td>\n",
       "      <td>46205.0</td>\n",
       "    </tr>\n",
       "    <tr>\n",
       "      <th>2</th>\n",
       "      <td>1.5</td>\n",
       "      <td>37731.0</td>\n",
       "    </tr>\n",
       "    <tr>\n",
       "      <th>3</th>\n",
       "      <td>2.0</td>\n",
       "      <td>43525.0</td>\n",
       "    </tr>\n",
       "    <tr>\n",
       "      <th>4</th>\n",
       "      <td>2.2</td>\n",
       "      <td>39891.0</td>\n",
       "    </tr>\n",
       "  </tbody>\n",
       "</table>\n",
       "</div>\n",
       "      <button class=\"colab-df-convert\" onclick=\"convertToInteractive('df-f81fa0fd-64ce-4396-b970-72a33f6cdd60')\"\n",
       "              title=\"Convert this dataframe to an interactive table.\"\n",
       "              style=\"display:none;\">\n",
       "        \n",
       "  <svg xmlns=\"http://www.w3.org/2000/svg\" height=\"24px\"viewBox=\"0 0 24 24\"\n",
       "       width=\"24px\">\n",
       "    <path d=\"M0 0h24v24H0V0z\" fill=\"none\"/>\n",
       "    <path d=\"M18.56 5.44l.94 2.06.94-2.06 2.06-.94-2.06-.94-.94-2.06-.94 2.06-2.06.94zm-11 1L8.5 8.5l.94-2.06 2.06-.94-2.06-.94L8.5 2.5l-.94 2.06-2.06.94zm10 10l.94 2.06.94-2.06 2.06-.94-2.06-.94-.94-2.06-.94 2.06-2.06.94z\"/><path d=\"M17.41 7.96l-1.37-1.37c-.4-.4-.92-.59-1.43-.59-.52 0-1.04.2-1.43.59L10.3 9.45l-7.72 7.72c-.78.78-.78 2.05 0 2.83L4 21.41c.39.39.9.59 1.41.59.51 0 1.02-.2 1.41-.59l7.78-7.78 2.81-2.81c.8-.78.8-2.07 0-2.86zM5.41 20L4 18.59l7.72-7.72 1.47 1.35L5.41 20z\"/>\n",
       "  </svg>\n",
       "      </button>\n",
       "      \n",
       "  <style>\n",
       "    .colab-df-container {\n",
       "      display:flex;\n",
       "      flex-wrap:wrap;\n",
       "      gap: 12px;\n",
       "    }\n",
       "\n",
       "    .colab-df-convert {\n",
       "      background-color: #E8F0FE;\n",
       "      border: none;\n",
       "      border-radius: 50%;\n",
       "      cursor: pointer;\n",
       "      display: none;\n",
       "      fill: #1967D2;\n",
       "      height: 32px;\n",
       "      padding: 0 0 0 0;\n",
       "      width: 32px;\n",
       "    }\n",
       "\n",
       "    .colab-df-convert:hover {\n",
       "      background-color: #E2EBFA;\n",
       "      box-shadow: 0px 1px 2px rgba(60, 64, 67, 0.3), 0px 1px 3px 1px rgba(60, 64, 67, 0.15);\n",
       "      fill: #174EA6;\n",
       "    }\n",
       "\n",
       "    [theme=dark] .colab-df-convert {\n",
       "      background-color: #3B4455;\n",
       "      fill: #D2E3FC;\n",
       "    }\n",
       "\n",
       "    [theme=dark] .colab-df-convert:hover {\n",
       "      background-color: #434B5C;\n",
       "      box-shadow: 0px 1px 3px 1px rgba(0, 0, 0, 0.15);\n",
       "      filter: drop-shadow(0px 1px 2px rgba(0, 0, 0, 0.3));\n",
       "      fill: #FFFFFF;\n",
       "    }\n",
       "  </style>\n",
       "\n",
       "      <script>\n",
       "        const buttonEl =\n",
       "          document.querySelector('#df-f81fa0fd-64ce-4396-b970-72a33f6cdd60 button.colab-df-convert');\n",
       "        buttonEl.style.display =\n",
       "          google.colab.kernel.accessAllowed ? 'block' : 'none';\n",
       "\n",
       "        async function convertToInteractive(key) {\n",
       "          const element = document.querySelector('#df-f81fa0fd-64ce-4396-b970-72a33f6cdd60');\n",
       "          const dataTable =\n",
       "            await google.colab.kernel.invokeFunction('convertToInteractive',\n",
       "                                                     [key], {});\n",
       "          if (!dataTable) return;\n",
       "\n",
       "          const docLinkHtml = 'Like what you see? Visit the ' +\n",
       "            '<a target=\"_blank\" href=https://colab.research.google.com/notebooks/data_table.ipynb>data table notebook</a>'\n",
       "            + ' to learn more about interactive tables.';\n",
       "          element.innerHTML = '';\n",
       "          dataTable['output_type'] = 'display_data';\n",
       "          await google.colab.output.renderOutput(dataTable, element);\n",
       "          const docLink = document.createElement('div');\n",
       "          docLink.innerHTML = docLinkHtml;\n",
       "          element.appendChild(docLink);\n",
       "        }\n",
       "      </script>\n",
       "    </div>\n",
       "  </div>\n",
       "  "
      ],
      "text/plain": [
       "   YearsExperience   Salary\n",
       "0              1.1  39343.0\n",
       "1              1.3  46205.0\n",
       "2              1.5  37731.0\n",
       "3              2.0  43525.0\n",
       "4              2.2  39891.0"
      ]
     },
     "execution_count": 9,
     "metadata": {},
     "output_type": "execute_result"
    }
   ],
   "source": [
    "import pandas as pd\n",
    "df = pd.read_csv('https://raw.githubusercontent.com/sohanjs111/Machine-Learning/Regression/Regression/simple_linear_regression/Salary_Data.csv')\n",
    "#The above url is a RawGit url. \n",
    "df.head()"
   ]
  },
  {
   "cell_type": "markdown",
   "id": "b31fe2cc",
   "metadata": {
    "id": "b31fe2cc"
   },
   "source": [
    "## Splitting the dataset into the Training set and Test set"
   ]
  },
  {
   "cell_type": "code",
   "execution_count": 10,
   "id": "62062b75",
   "metadata": {
    "id": "62062b75"
   },
   "outputs": [],
   "source": [
    "from sklearn.model_selection import train_test_split\n",
    "X=df.iloc[:, :-1].values # X contains independent variables which is years of experience\n",
    "y=df.iloc[:, -1].values  # y contains dependent variables which is salary\n",
    "X_train, X_test, y_train, y_test = train_test_split(X, y, test_size=0.33, random_state=0) "
   ]
  },
  {
   "cell_type": "markdown",
   "id": "4f9f834c",
   "metadata": {
    "id": "4f9f834c"
   },
   "source": [
    "## Training the Simple Linear Regression model on the Training set"
>>>>>>> 2663b429d598b4eef28ed5a32acef38d27f4f441
   ]
  },
  {
   "cell_type": "code",
<<<<<<< HEAD
   "execution_count": 7,
   "id": "9bd5d9f6",
   "metadata": {},
   "outputs": [
    {
     "name": "stdout",
     "output_type": "stream",
     "text": [
      "[1.5] 37731.0\n",
      "[10.3] 122391.0\n",
      "[4.1] 57081.0\n",
      "[3.9] 63218.0\n",
      "[9.5] 116969.0\n",
      "[8.7] 109431.0\n",
      "[9.6] 112635.0\n",
      "[4.] 55794.0\n",
      "[5.3] 83088.0\n",
      "[7.9] 101302.0\n"
     ]
    }
   ],
   "source": [
    "for i in range(len(X_test)):\n",
    "    print(X_test[i], y_test[i])"
=======
   "execution_count": 11,
   "id": "0ad231fa",
   "metadata": {
    "colab": {
     "base_uri": "https://localhost:8080/"
    },
    "id": "0ad231fa",
    "outputId": "6c61405d-9ec3-4918-e0e6-4b102096cf38"
   },
   "outputs": [
    {
     "data": {
      "text/plain": [
       "0.9749154407708353"
      ]
     },
     "execution_count": 11,
     "metadata": {},
     "output_type": "execute_result"
    }
   ],
   "source": [
    "from sklearn.linear_model import LinearRegression\n",
    "reg = LinearRegression().fit(X_train,y_train)\n",
    "reg.score(X_test, y_test) #This is the accuracy of the model"
>>>>>>> 2663b429d598b4eef28ed5a32acef38d27f4f441
   ]
  },
  {
   "cell_type": "markdown",
<<<<<<< HEAD
   "id": "4f9f834c",
   "metadata": {
    "id": "4f9f834c"
   },
   "source": [
    "## Training the Simple Linear Regression model on the Training set"
=======
   "id": "d2ba1c69",
   "metadata": {
    "id": "d2ba1c69"
   },
   "source": [
    "## Predicting the Test set results"
>>>>>>> 2663b429d598b4eef28ed5a32acef38d27f4f441
   ]
  },
  {
   "cell_type": "code",
<<<<<<< HEAD
   "execution_count": 9,
   "id": "0ad231fa",
=======
   "execution_count": 12,
   "id": "07c4fd94",
>>>>>>> 2663b429d598b4eef28ed5a32acef38d27f4f441
   "metadata": {
    "colab": {
     "base_uri": "https://localhost:8080/"
    },
<<<<<<< HEAD
    "id": "0ad231fa",
    "outputId": "6c61405d-9ec3-4918-e0e6-4b102096cf38"
   },
   "outputs": [],
   "source": [
    "from sklearn.linear_model import LinearRegression\n",
    "reg = LinearRegression().fit(X_train,y_train)"
   ]
  },
  {
   "cell_type": "markdown",
   "id": "93bbf199",
   "metadata": {},
   "source": [
    "## Accuracy of the model "
   ]
  },
  {
   "cell_type": "code",
   "execution_count": 11,
   "id": "4911d1ec",
   "metadata": {},
=======
    "id": "07c4fd94",
    "outputId": "c2834a23-d7fd-45c7-c0bf-61cacd96214f"
   },
>>>>>>> 2663b429d598b4eef28ed5a32acef38d27f4f441
   "outputs": [
    {
     "data": {
      "text/plain": [
<<<<<<< HEAD
       "0.9749154407708353"
      ]
     },
     "execution_count": 11,
=======
       "array([ 40835.10590871, 123079.39940819,  65134.55626083,  63265.36777221,\n",
       "       115602.64545369, 108125.8914992 , 116537.23969801,  64199.96201652,\n",
       "        76349.68719258, 100649.1375447 ])"
      ]
     },
     "execution_count": 12,
>>>>>>> 2663b429d598b4eef28ed5a32acef38d27f4f441
     "metadata": {},
     "output_type": "execute_result"
    }
   ],
   "source": [
<<<<<<< HEAD
    "reg.score(X_test, y_test) "
   ]
  },
  {
   "cell_type": "markdown",
   "id": "d2ba1c69",
   "metadata": {
    "id": "d2ba1c69"
   },
   "source": [
    "## Predicting the Test set results"
=======
    "y_pred = reg.predict(X_test)\n",
    "y_pred"
>>>>>>> 2663b429d598b4eef28ed5a32acef38d27f4f441
   ]
  },
  {
   "cell_type": "code",
<<<<<<< HEAD
   "execution_count": 12,
   "id": "07c4fd94",
=======
   "execution_count": 13,
   "id": "1urq5lfUbiZN",
>>>>>>> 2663b429d598b4eef28ed5a32acef38d27f4f441
   "metadata": {
    "colab": {
     "base_uri": "https://localhost:8080/"
    },
<<<<<<< HEAD
    "id": "07c4fd94",
    "outputId": "c2834a23-d7fd-45c7-c0bf-61cacd96214f"
   },
   "outputs": [],
   "source": [
    "y_pred = reg.predict(X_test)"
   ]
  },
  {
   "cell_type": "code",
   "execution_count": 35,
   "id": "5f897997",
   "metadata": {},
   "outputs": [
    {
     "name": "stdout",
     "output_type": "stream",
     "text": [
      "[1.5]    37731.0   40835.10590871474\n",
      "[10.3]    122391.0   123079.39940819163\n",
      "[4.1]    57081.0   65134.556260832906\n",
      "[3.9]    63218.0   63265.36777220843\n",
      "[9.5]    116969.0   115602.64545369372\n",
      "[8.7]    109431.0   108125.89149919583\n",
      "[9.6]    112635.0   116537.23969800597\n",
      "[4.]    55794.0   64199.96201652067\n",
      "[5.3]    83088.0   76349.68719257976\n",
      "[7.9]    101302.0   100649.13754469794\n"
     ]
    }
   ],
   "source": [
    "for i in range(len(X_test)):\n",
    "    print(X_test[i],\"  \", y_test[i], \" \", y_pred[i])\n"
=======
    "id": "1urq5lfUbiZN",
    "outputId": "10ca24bb-4cc7-42d6-d31e-c3b7258baeae"
   },
   "outputs": [
    {
     "data": {
      "text/plain": [
       "array([ 37731., 122391.,  57081.,  63218., 116969., 109431., 112635.,\n",
       "        55794.,  83088., 101302.])"
      ]
     },
     "execution_count": 13,
     "metadata": {},
     "output_type": "execute_result"
    }
   ],
   "source": [
    "y_test"
>>>>>>> 2663b429d598b4eef28ed5a32acef38d27f4f441
   ]
  },
  {
   "cell_type": "markdown",
   "id": "680ddfc3",
   "metadata": {
    "id": "680ddfc3"
   },
   "source": [
    "## Visualising the Training set results"
   ]
  },
  {
   "cell_type": "code",
<<<<<<< HEAD
   "execution_count": 36,
=======
   "execution_count": 14,
>>>>>>> 2663b429d598b4eef28ed5a32acef38d27f4f441
   "id": "f1ldjviYTgee",
   "metadata": {
    "colab": {
     "base_uri": "https://localhost:8080/",
     "height": 295
    },
    "id": "f1ldjviYTgee",
    "outputId": "a3d2323d-aca9-4f01-e38d-7af91d547f47"
   },
   "outputs": [
    {
     "data": {
<<<<<<< HEAD
      "image/png": "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\n",
=======
      "image/png": "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\n",
>>>>>>> 2663b429d598b4eef28ed5a32acef38d27f4f441
      "text/plain": [
       "<Figure size 432x288 with 1 Axes>"
      ]
     },
     "metadata": {
      "needs_background": "light"
     },
     "output_type": "display_data"
    }
   ],
   "source": [
<<<<<<< HEAD
    "pred = reg.predict(X_train)\n",
    "plt.scatter(X_train, y_train, color = 'red')\n",
    "plt.plot(X_train, pred, color = 'blue')\n",
=======
    "import matplotlib.pyplot as plt\n",
    "pred = reg.predict(X_train)\n",
    "plt.scatter(X_train, y_train)\n",
    "plt.plot(X_train, pred)\n",
>>>>>>> 2663b429d598b4eef28ed5a32acef38d27f4f441
    "plt.xlabel('Years of Experience')\n",
    "plt.ylabel('Salary')\n",
    "plt.title('Training set')\n",
    "plt.show()"
   ]
  },
  {
   "cell_type": "markdown",
   "id": "6ccfb37a",
   "metadata": {
    "id": "6ccfb37a"
   },
   "source": [
    "## Visualising the Test set results"
   ]
  },
  {
   "cell_type": "code",
<<<<<<< HEAD
   "execution_count": 37,
=======
   "execution_count": 15,
>>>>>>> 2663b429d598b4eef28ed5a32acef38d27f4f441
   "id": "WYVdYEwyTuyo",
   "metadata": {
    "colab": {
     "base_uri": "https://localhost:8080/",
     "height": 295
    },
    "id": "WYVdYEwyTuyo",
    "outputId": "16d770b0-df50-4d3d-86e3-78eea5cd2733"
   },
   "outputs": [
    {
     "data": {
<<<<<<< HEAD
      "image/png": "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\n",
=======
      "image/png": "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\n",
>>>>>>> 2663b429d598b4eef28ed5a32acef38d27f4f441
      "text/plain": [
       "<Figure size 432x288 with 1 Axes>"
      ]
     },
     "metadata": {
      "needs_background": "light"
     },
     "output_type": "display_data"
    }
   ],
   "source": [
<<<<<<< HEAD
    "plt.scatter(X_test, y_test, color = 'red')\n",
    "plt.plot(X_train, pred, color = 'blue')\n",
=======
    "plt.scatter(X_test, y_test)\n",
    "plt.plot(X_train, pred)\n",
>>>>>>> 2663b429d598b4eef28ed5a32acef38d27f4f441
    "plt.xlabel('Years of experience')\n",
    "plt.ylabel('Actual salary')\n",
    "plt.title('Testing set')\n",
    "plt.show()"
   ]
  }
 ],
 "metadata": {
  "colab": {
   "name": "simple_linear_regression.ipynb",
   "provenance": []
  },
  "kernelspec": {
   "display_name": "Python 3 (ipykernel)",
   "language": "python",
   "name": "python3"
  },
  "language_info": {
   "codemirror_mode": {
    "name": "ipython",
    "version": 3
   },
   "file_extension": ".py",
   "mimetype": "text/x-python",
   "name": "python",
   "nbconvert_exporter": "python",
   "pygments_lexer": "ipython3",
<<<<<<< HEAD
   "version": "3.9.12"
=======
   "version": "3.10.1"
>>>>>>> 2663b429d598b4eef28ed5a32acef38d27f4f441
  }
 },
 "nbformat": 4,
 "nbformat_minor": 5
}
