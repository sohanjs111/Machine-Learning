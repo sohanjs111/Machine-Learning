{
 "cells": [
  {
   "cell_type": "markdown",
   "id": "ab1f5f4e",
   "metadata": {
    "id": "ab1f5f4e"
   },
   "source": [
    "# Simple Linear Regression"
   ]
  },
  {
   "cell_type": "markdown",
   "id": "b887f891",
   "metadata": {
    "id": "b887f891"
   },
   "source": [
    "## Import the dataset"
   ]
  },
  {
   "cell_type": "code",
   "execution_count": 9,
<<<<<<< HEAD
   "id": "2930aa21",
   "metadata": {},
   "outputs": [],
   "source": [
    "import numpy as np"
   ]
  },
  {
   "cell_type": "code",
   "execution_count": 16,
=======
>>>>>>> 838297c0234877cb2aa0d797539489834054711b
   "id": "f8f7f3f1",
   "metadata": {
    "colab": {
     "base_uri": "https://localhost:8080/",
     "height": 206
<<<<<<< HEAD
    },
    "id": "f8f7f3f1",
    "outputId": "c55eeb36-e985-4720-95d6-25f6b09d8d51"
   },
   "outputs": [],
   "source": [
    "import pandas as pd\n",
    "df = pd.read_csv('https://raw.githubusercontent.com/sohanjs111/Machine-Learning/main/Regression/simple_linear_regression/Salary_Data.csv')\n",
    "#The above url is a RawGit url. \n",
    "X=df.iloc[:, :-1].values # X contains independent variables which is years of experience\n",
    "y=df.iloc[:, -1].values  # y contains dependent variables which is salary"
   ]
  },
  {
   "cell_type": "code",
   "execution_count": 17,
   "id": "119ed5b0",
   "metadata": {},
   "outputs": [
    {
     "data": {
      "text/html": [
       "<div>\n",
       "<style scoped>\n",
       "    .dataframe tbody tr th:only-of-type {\n",
       "        vertical-align: middle;\n",
       "    }\n",
       "\n",
       "    .dataframe tbody tr th {\n",
       "        vertical-align: top;\n",
       "    }\n",
       "\n",
       "    .dataframe thead th {\n",
       "        text-align: right;\n",
       "    }\n",
       "</style>\n",
       "<table border=\"1\" class=\"dataframe\">\n",
       "  <thead>\n",
       "    <tr style=\"text-align: right;\">\n",
       "      <th></th>\n",
       "      <th>YearsExperience</th>\n",
       "      <th>Salary</th>\n",
       "    </tr>\n",
       "  </thead>\n",
       "  <tbody>\n",
       "    <tr>\n",
       "      <th>0</th>\n",
       "      <td>1.1</td>\n",
       "      <td>39343.0</td>\n",
       "    </tr>\n",
       "    <tr>\n",
       "      <th>1</th>\n",
       "      <td>1.3</td>\n",
       "      <td>46205.0</td>\n",
       "    </tr>\n",
       "    <tr>\n",
       "      <th>2</th>\n",
       "      <td>1.5</td>\n",
       "      <td>37731.0</td>\n",
       "    </tr>\n",
       "    <tr>\n",
       "      <th>3</th>\n",
       "      <td>2.0</td>\n",
       "      <td>43525.0</td>\n",
       "    </tr>\n",
       "    <tr>\n",
       "      <th>4</th>\n",
       "      <td>2.2</td>\n",
       "      <td>39891.0</td>\n",
       "    </tr>\n",
       "  </tbody>\n",
       "</table>\n",
       "</div>"
      ],
      "text/plain": [
       "   YearsExperience   Salary\n",
       "0              1.1  39343.0\n",
       "1              1.3  46205.0\n",
       "2              1.5  37731.0\n",
       "3              2.0  43525.0\n",
       "4              2.2  39891.0"
      ]
     },
     "execution_count": 17,
     "metadata": {},
     "output_type": "execute_result"
    }
   ],
   "source": [
    "df.head()"
   ]
  },
  {
   "cell_type": "markdown",
   "id": "b31fe2cc",
   "metadata": {
    "id": "b31fe2cc"
   },
   "source": [
    "## Splitting the dataset into the Training set and Test set"
   ]
  },
  {
   "cell_type": "code",
   "execution_count": 13,
   "id": "62062b75",
   "metadata": {
    "id": "62062b75"
   },
   "outputs": [],
   "source": [
    "from sklearn.model_selection import train_test_split\n",
    "X_train, X_test, y_train, y_test = train_test_split(X, y, test_size=0.33, random_state=0) "
   ]
  },
  {
   "cell_type": "code",
   "execution_count": 15,
   "id": "51246b36",
   "metadata": {},
   "outputs": [
    {
     "name": "stdout",
     "output_type": "stream",
     "text": [
      "[2.9] 56642.0\n",
      "[5.1] 66029.0\n",
      "[3.2] 64445.0\n",
      "[4.5] 61111.0\n",
      "[8.2] 113812.0\n",
      "[6.8] 91738.0\n",
      "[1.3] 46205.0\n",
      "[10.5] 121872.0\n",
      "[3.] 60150.0\n",
      "[2.2] 39891.0\n",
      "[5.9] 81363.0\n",
      "[6.] 93940.0\n",
      "[3.7] 57189.0\n",
      "[3.2] 54445.0\n",
      "[9.] 105582.0\n",
      "[2.] 43525.0\n",
      "[1.1] 39343.0\n",
      "[7.1] 98273.0\n",
      "[4.9] 67938.0\n",
      "[4.] 56957.0\n"
     ]
    }
   ],
   "source": [
    "for i in range(len(X_train)):\n",
    "    print(X_train[i], y_train[i])"
   ]
  },
  {
   "cell_type": "code",
   "execution_count": 28,
   "id": "9bd5d9f6",
   "metadata": {},
   "outputs": [
    {
     "name": "stdout",
     "output_type": "stream",
     "text": [
      "[1.5] 37731.0\n",
      "[10.3] 122391.0\n",
      "[4.1] 57081.0\n",
      "[3.9] 63218.0\n",
      "[9.5] 116969.0\n",
      "[8.7] 109431.0\n",
      "[9.6] 112635.0\n",
      "[4.] 55794.0\n",
      "[5.3] 83088.0\n",
      "[7.9] 101302.0\n"
     ]
    }
   ],
   "source": [
    "for i in range(len(X_test)):\n",
    "    print(X_test[i], y_test[i])"
   ]
  },
  {
   "cell_type": "markdown",
   "id": "4f9f834c",
   "metadata": {
    "id": "4f9f834c"
   },
   "source": [
    "## Training the Simple Linear Regression model on the Training set"
   ]
  },
  {
   "cell_type": "code",
   "execution_count": 20,
   "id": "0ad231fa",
   "metadata": {
    "colab": {
     "base_uri": "https://localhost:8080/"
    },
    "id": "0ad231fa",
    "outputId": "6c61405d-9ec3-4918-e0e6-4b102096cf38"
=======
    },
    "id": "f8f7f3f1",
    "outputId": "c55eeb36-e985-4720-95d6-25f6b09d8d51"
>>>>>>> 838297c0234877cb2aa0d797539489834054711b
   },
   "outputs": [
    {
     "data": {
<<<<<<< HEAD
      "text/plain": [
       "0.9749154407708353"
      ]
     },
     "execution_count": 20,
=======
      "text/html": [
       "\n",
       "  <div id=\"df-f81fa0fd-64ce-4396-b970-72a33f6cdd60\">\n",
       "    <div class=\"colab-df-container\">\n",
       "      <div>\n",
       "<style scoped>\n",
       "    .dataframe tbody tr th:only-of-type {\n",
       "        vertical-align: middle;\n",
       "    }\n",
       "\n",
       "    .dataframe tbody tr th {\n",
       "        vertical-align: top;\n",
       "    }\n",
       "\n",
       "    .dataframe thead th {\n",
       "        text-align: right;\n",
       "    }\n",
       "</style>\n",
       "<table border=\"1\" class=\"dataframe\">\n",
       "  <thead>\n",
       "    <tr style=\"text-align: right;\">\n",
       "      <th></th>\n",
       "      <th>YearsExperience</th>\n",
       "      <th>Salary</th>\n",
       "    </tr>\n",
       "  </thead>\n",
       "  <tbody>\n",
       "    <tr>\n",
       "      <th>0</th>\n",
       "      <td>1.1</td>\n",
       "      <td>39343.0</td>\n",
       "    </tr>\n",
       "    <tr>\n",
       "      <th>1</th>\n",
       "      <td>1.3</td>\n",
       "      <td>46205.0</td>\n",
       "    </tr>\n",
       "    <tr>\n",
       "      <th>2</th>\n",
       "      <td>1.5</td>\n",
       "      <td>37731.0</td>\n",
       "    </tr>\n",
       "    <tr>\n",
       "      <th>3</th>\n",
       "      <td>2.0</td>\n",
       "      <td>43525.0</td>\n",
       "    </tr>\n",
       "    <tr>\n",
       "      <th>4</th>\n",
       "      <td>2.2</td>\n",
       "      <td>39891.0</td>\n",
       "    </tr>\n",
       "  </tbody>\n",
       "</table>\n",
       "</div>\n",
       "      <button class=\"colab-df-convert\" onclick=\"convertToInteractive('df-f81fa0fd-64ce-4396-b970-72a33f6cdd60')\"\n",
       "              title=\"Convert this dataframe to an interactive table.\"\n",
       "              style=\"display:none;\">\n",
       "        \n",
       "  <svg xmlns=\"http://www.w3.org/2000/svg\" height=\"24px\"viewBox=\"0 0 24 24\"\n",
       "       width=\"24px\">\n",
       "    <path d=\"M0 0h24v24H0V0z\" fill=\"none\"/>\n",
       "    <path d=\"M18.56 5.44l.94 2.06.94-2.06 2.06-.94-2.06-.94-.94-2.06-.94 2.06-2.06.94zm-11 1L8.5 8.5l.94-2.06 2.06-.94-2.06-.94L8.5 2.5l-.94 2.06-2.06.94zm10 10l.94 2.06.94-2.06 2.06-.94-2.06-.94-.94-2.06-.94 2.06-2.06.94z\"/><path d=\"M17.41 7.96l-1.37-1.37c-.4-.4-.92-.59-1.43-.59-.52 0-1.04.2-1.43.59L10.3 9.45l-7.72 7.72c-.78.78-.78 2.05 0 2.83L4 21.41c.39.39.9.59 1.41.59.51 0 1.02-.2 1.41-.59l7.78-7.78 2.81-2.81c.8-.78.8-2.07 0-2.86zM5.41 20L4 18.59l7.72-7.72 1.47 1.35L5.41 20z\"/>\n",
       "  </svg>\n",
       "      </button>\n",
       "      \n",
       "  <style>\n",
       "    .colab-df-container {\n",
       "      display:flex;\n",
       "      flex-wrap:wrap;\n",
       "      gap: 12px;\n",
       "    }\n",
       "\n",
       "    .colab-df-convert {\n",
       "      background-color: #E8F0FE;\n",
       "      border: none;\n",
       "      border-radius: 50%;\n",
       "      cursor: pointer;\n",
       "      display: none;\n",
       "      fill: #1967D2;\n",
       "      height: 32px;\n",
       "      padding: 0 0 0 0;\n",
       "      width: 32px;\n",
       "    }\n",
       "\n",
       "    .colab-df-convert:hover {\n",
       "      background-color: #E2EBFA;\n",
       "      box-shadow: 0px 1px 2px rgba(60, 64, 67, 0.3), 0px 1px 3px 1px rgba(60, 64, 67, 0.15);\n",
       "      fill: #174EA6;\n",
       "    }\n",
       "\n",
       "    [theme=dark] .colab-df-convert {\n",
       "      background-color: #3B4455;\n",
       "      fill: #D2E3FC;\n",
       "    }\n",
       "\n",
       "    [theme=dark] .colab-df-convert:hover {\n",
       "      background-color: #434B5C;\n",
       "      box-shadow: 0px 1px 3px 1px rgba(0, 0, 0, 0.15);\n",
       "      filter: drop-shadow(0px 1px 2px rgba(0, 0, 0, 0.3));\n",
       "      fill: #FFFFFF;\n",
       "    }\n",
       "  </style>\n",
       "\n",
       "      <script>\n",
       "        const buttonEl =\n",
       "          document.querySelector('#df-f81fa0fd-64ce-4396-b970-72a33f6cdd60 button.colab-df-convert');\n",
       "        buttonEl.style.display =\n",
       "          google.colab.kernel.accessAllowed ? 'block' : 'none';\n",
       "\n",
       "        async function convertToInteractive(key) {\n",
       "          const element = document.querySelector('#df-f81fa0fd-64ce-4396-b970-72a33f6cdd60');\n",
       "          const dataTable =\n",
       "            await google.colab.kernel.invokeFunction('convertToInteractive',\n",
       "                                                     [key], {});\n",
       "          if (!dataTable) return;\n",
       "\n",
       "          const docLinkHtml = 'Like what you see? Visit the ' +\n",
       "            '<a target=\"_blank\" href=https://colab.research.google.com/notebooks/data_table.ipynb>data table notebook</a>'\n",
       "            + ' to learn more about interactive tables.';\n",
       "          element.innerHTML = '';\n",
       "          dataTable['output_type'] = 'display_data';\n",
       "          await google.colab.output.renderOutput(dataTable, element);\n",
       "          const docLink = document.createElement('div');\n",
       "          docLink.innerHTML = docLinkHtml;\n",
       "          element.appendChild(docLink);\n",
       "        }\n",
       "      </script>\n",
       "    </div>\n",
       "  </div>\n",
       "  "
      ],
      "text/plain": [
       "   YearsExperience   Salary\n",
       "0              1.1  39343.0\n",
       "1              1.3  46205.0\n",
       "2              1.5  37731.0\n",
       "3              2.0  43525.0\n",
       "4              2.2  39891.0"
      ]
     },
     "execution_count": 9,
>>>>>>> 838297c0234877cb2aa0d797539489834054711b
     "metadata": {},
     "output_type": "execute_result"
    }
   ],
   "source": [
<<<<<<< HEAD
    "from sklearn.linear_model import LinearRegression\n",
    "reg = LinearRegression().fit(X_train,y_train)\n",
    "reg.score(X_test, y_test) #This is the accuracy of the model"
=======
    "import pandas as pd\n",
    "df = pd.read_csv('https://raw.githubusercontent.com/sohanjs111/Machine-Learning/Regression/Regression/simple_linear_regression/Salary_Data.csv')\n",
    "#The above url is a RawGit url. \n",
    "df.head()"
>>>>>>> 838297c0234877cb2aa0d797539489834054711b
   ]
  },
  {
   "cell_type": "markdown",
<<<<<<< HEAD
   "id": "d2ba1c69",
   "metadata": {
    "id": "d2ba1c69"
   },
   "source": [
    "## Predicting the Test set results"
=======
   "id": "b31fe2cc",
   "metadata": {
    "id": "b31fe2cc"
   },
   "source": [
    "## Splitting the dataset into the Training set and Test set"
>>>>>>> 838297c0234877cb2aa0d797539489834054711b
   ]
  },
  {
   "cell_type": "code",
<<<<<<< HEAD
   "execution_count": 21,
   "id": "07c4fd94",
=======
   "execution_count": 10,
   "id": "62062b75",
   "metadata": {
    "id": "62062b75"
   },
   "outputs": [],
   "source": [
    "from sklearn.model_selection import train_test_split\n",
    "X=df.iloc[:, :-1].values # X contains independent variables which is years of experience\n",
    "y=df.iloc[:, -1].values  # y contains dependent variables which is salary\n",
    "X_train, X_test, y_train, y_test = train_test_split(X, y, test_size=0.33, random_state=0) "
   ]
  },
  {
   "cell_type": "markdown",
   "id": "4f9f834c",
   "metadata": {
    "id": "4f9f834c"
   },
   "source": [
    "## Training the Simple Linear Regression model on the Training set"
   ]
  },
  {
   "cell_type": "code",
   "execution_count": 11,
   "id": "0ad231fa",
>>>>>>> 838297c0234877cb2aa0d797539489834054711b
   "metadata": {
    "colab": {
     "base_uri": "https://localhost:8080/"
    },
<<<<<<< HEAD
    "id": "07c4fd94",
    "outputId": "c2834a23-d7fd-45c7-c0bf-61cacd96214f"
=======
    "id": "0ad231fa",
    "outputId": "6c61405d-9ec3-4918-e0e6-4b102096cf38"
>>>>>>> 838297c0234877cb2aa0d797539489834054711b
   },
   "outputs": [
    {
     "data": {
      "text/plain": [
<<<<<<< HEAD
       "array([ 40835.10590871, 123079.39940819,  65134.55626083,  63265.36777221,\n",
       "       115602.64545369, 108125.8914992 , 116537.23969801,  64199.96201652,\n",
       "        76349.68719258, 100649.1375447 ])"
      ]
     },
     "execution_count": 21,
=======
       "0.9749154407708353"
      ]
     },
     "execution_count": 11,
>>>>>>> 838297c0234877cb2aa0d797539489834054711b
     "metadata": {},
     "output_type": "execute_result"
    }
   ],
   "source": [
<<<<<<< HEAD
    "y_pred = reg.predict(X_test)\n",
    "y_pred"
=======
    "from sklearn.linear_model import LinearRegression\n",
    "reg = LinearRegression().fit(X_train,y_train)\n",
    "reg.score(X_test, y_test) #This is the accuracy of the model"
   ]
  },
  {
   "cell_type": "markdown",
   "id": "d2ba1c69",
   "metadata": {
    "id": "d2ba1c69"
   },
   "source": [
    "## Predicting the Test set results"
>>>>>>> 838297c0234877cb2aa0d797539489834054711b
   ]
  },
  {
   "cell_type": "code",
<<<<<<< HEAD
   "execution_count": 27,
   "id": "5f897997",
   "metadata": {},
   "outputs": [
    {
     "name": "stdout",
     "output_type": "stream",
     "text": [
      "[1.5] 40835.10590871474 37731.0\n",
      "[10.3] 123079.39940819163 122391.0\n",
      "[4.1] 65134.556260832906 57081.0\n",
      "[3.9] 63265.36777220843 63218.0\n",
      "[9.5] 115602.64545369372 116969.0\n",
      "[8.7] 108125.89149919583 109431.0\n",
      "[9.6] 116537.23969800597 112635.0\n",
      "[4.] 64199.96201652067 55794.0\n",
      "[5.3] 76349.68719257976 83088.0\n",
      "[7.9] 100649.13754469794 101302.0\n"
     ]
    }
   ],
   "source": [
    "for i in range(len(X_test)):\n",
    "    print(X_test[i], y_pred[i],y_test[i])"
=======
   "execution_count": 12,
   "id": "07c4fd94",
   "metadata": {
    "colab": {
     "base_uri": "https://localhost:8080/"
    },
    "id": "07c4fd94",
    "outputId": "c2834a23-d7fd-45c7-c0bf-61cacd96214f"
   },
   "outputs": [
    {
     "data": {
      "text/plain": [
       "array([ 40835.10590871, 123079.39940819,  65134.55626083,  63265.36777221,\n",
       "       115602.64545369, 108125.8914992 , 116537.23969801,  64199.96201652,\n",
       "        76349.68719258, 100649.1375447 ])"
      ]
     },
     "execution_count": 12,
     "metadata": {},
     "output_type": "execute_result"
    }
   ],
   "source": [
    "y_pred = reg.predict(X_test)\n",
    "y_pred"
>>>>>>> 838297c0234877cb2aa0d797539489834054711b
   ]
  },
  {
   "cell_type": "code",
   "execution_count": 13,
   "id": "1urq5lfUbiZN",
   "metadata": {
    "colab": {
     "base_uri": "https://localhost:8080/"
    },
    "id": "1urq5lfUbiZN",
    "outputId": "10ca24bb-4cc7-42d6-d31e-c3b7258baeae"
   },
   "outputs": [
    {
     "data": {
      "text/plain": [
       "array([ 37731., 122391.,  57081.,  63218., 116969., 109431., 112635.,\n",
       "        55794.,  83088., 101302.])"
      ]
     },
     "execution_count": 13,
     "metadata": {},
     "output_type": "execute_result"
    }
   ],
   "source": [
    "y_test"
   ]
  },
  {
   "cell_type": "markdown",
   "id": "680ddfc3",
   "metadata": {
    "id": "680ddfc3"
   },
   "source": [
    "## Visualising the Training set results"
   ]
  },
  {
   "cell_type": "code",
<<<<<<< HEAD
   "execution_count": 25,
=======
   "execution_count": 14,
>>>>>>> 838297c0234877cb2aa0d797539489834054711b
   "id": "f1ldjviYTgee",
   "metadata": {
    "colab": {
     "base_uri": "https://localhost:8080/",
     "height": 295
    },
    "id": "f1ldjviYTgee",
    "outputId": "a3d2323d-aca9-4f01-e38d-7af91d547f47"
   },
   "outputs": [
    {
     "data": {
<<<<<<< HEAD
      "image/png": "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\n",
=======
      "image/png": "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\n",
>>>>>>> 838297c0234877cb2aa0d797539489834054711b
      "text/plain": [
       "<Figure size 432x288 with 1 Axes>"
      ]
     },
     "metadata": {
      "needs_background": "light"
     },
     "output_type": "display_data"
    }
   ],
   "source": [
    "import matplotlib.pyplot as plt\n",
    "pred = reg.predict(X_train)\n",
    "plt.scatter(X_train, y_train)\n",
    "plt.plot(X_train, pred)\n",
    "plt.xlabel('Years of Experience')\n",
    "plt.ylabel('Salary')\n",
    "plt.title('Training set')\n",
    "plt.show()"
   ]
  },
  {
   "cell_type": "markdown",
   "id": "6ccfb37a",
   "metadata": {
    "id": "6ccfb37a"
   },
   "source": [
    "## Visualising the Test set results"
   ]
  },
  {
   "cell_type": "code",
<<<<<<< HEAD
   "execution_count": 26,
=======
   "execution_count": 15,
>>>>>>> 838297c0234877cb2aa0d797539489834054711b
   "id": "WYVdYEwyTuyo",
   "metadata": {
    "colab": {
     "base_uri": "https://localhost:8080/",
     "height": 295
    },
    "id": "WYVdYEwyTuyo",
    "outputId": "16d770b0-df50-4d3d-86e3-78eea5cd2733"
   },
   "outputs": [
    {
     "data": {
<<<<<<< HEAD
      "image/png": "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\n",
=======
      "image/png": "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\n",
>>>>>>> 838297c0234877cb2aa0d797539489834054711b
      "text/plain": [
       "<Figure size 432x288 with 1 Axes>"
      ]
     },
     "metadata": {
      "needs_background": "light"
     },
     "output_type": "display_data"
    }
   ],
   "source": [
    "plt.scatter(X_test, y_test)\n",
    "plt.plot(X_train, pred)\n",
    "plt.xlabel('Years of experience')\n",
    "plt.ylabel('Actual salary')\n",
    "plt.title('Testing set')\n",
    "plt.show()"
   ]
<<<<<<< HEAD
  },
  {
   "cell_type": "code",
   "execution_count": null,
   "id": "2c9a592e",
   "metadata": {},
   "outputs": [],
   "source": []
=======
>>>>>>> 838297c0234877cb2aa0d797539489834054711b
  }
 ],
 "metadata": {
  "colab": {
   "name": "simple_linear_regression.ipynb",
   "provenance": []
  },
  "kernelspec": {
   "display_name": "Python 3 (ipykernel)",
   "language": "python",
   "name": "python3"
  },
  "language_info": {
   "codemirror_mode": {
    "name": "ipython",
    "version": 3
   },
   "file_extension": ".py",
   "mimetype": "text/x-python",
   "name": "python",
   "nbconvert_exporter": "python",
   "pygments_lexer": "ipython3",
<<<<<<< HEAD
   "version": "3.9.12"
=======
   "version": "3.10.1"
>>>>>>> 838297c0234877cb2aa0d797539489834054711b
  }
 },
 "nbformat": 4,
 "nbformat_minor": 5
}
