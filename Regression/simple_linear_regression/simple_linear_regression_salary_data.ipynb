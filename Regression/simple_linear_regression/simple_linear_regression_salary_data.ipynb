{
 "cells": [
  {
   "cell_type": "markdown",
   "id": "ab1f5f4e",
   "metadata": {
    "id": "ab1f5f4e"
   },
   "source": [
    "# Simple Linear Regression"
   ]
  },
  {
   "cell_type": "markdown",
   "id": "b887f891",
   "metadata": {
    "id": "b887f891"
   },
   "source": [
    "## Import the dataset"
   ]
  },
  {
   "cell_type": "code",
   "execution_count": 15,
   "id": "2930aa21",
   "metadata": {},
   "outputs": [],
   "source": [
    "import numpy as np"
   ]
  },
  {
   "cell_type": "code",
   "execution_count": 16,
   "id": "f8f7f3f1",
   "metadata": {
    "colab": {
     "base_uri": "https://localhost:8080/",
     "height": 206
    },
    "id": "f8f7f3f1",
    "outputId": "c55eeb36-e985-4720-95d6-25f6b09d8d51"
   },
   "outputs": [],
   "source": [
    "import pandas as pd\n",
    "df = pd.read_csv('https://raw.githubusercontent.com/sohanjs111/Machine-Learning/main/Regression/simple_linear_regression/Salary_Data.csv')\n",
    "#The above url is a RawGit url. \n",
    "X=df.iloc[:, :-1].values # X contains independent variables which is years of experience\n",
    "y=df.iloc[:, -1].values  # y contains dependent variables which is salary"
   ]
  },
  {
   "cell_type": "code",
   "execution_count": 18,
   "id": "654bf345",
   "metadata": {},
   "outputs": [
    {
     "name": "stdout",
     "output_type": "stream",
     "text": [
      "30\n",
      "30\n"
     ]
    }
   ],
   "source": [
    "print(X.size)\n",
    "print(y.size)"
   ]
  },
  {
   "cell_type": "code",
   "execution_count": 3,
   "id": "119ed5b0",
   "metadata": {},
   "outputs": [
    {
     "data": {
      "text/html": [
       "<div>\n",
       "<style scoped>\n",
       "    .dataframe tbody tr th:only-of-type {\n",
       "        vertical-align: middle;\n",
       "    }\n",
       "\n",
       "    .dataframe tbody tr th {\n",
       "        vertical-align: top;\n",
       "    }\n",
       "\n",
       "    .dataframe thead th {\n",
       "        text-align: right;\n",
       "    }\n",
       "</style>\n",
       "<table border=\"1\" class=\"dataframe\">\n",
       "  <thead>\n",
       "    <tr style=\"text-align: right;\">\n",
       "      <th></th>\n",
       "      <th>YearsExperience</th>\n",
       "      <th>Salary</th>\n",
       "    </tr>\n",
       "  </thead>\n",
       "  <tbody>\n",
       "    <tr>\n",
       "      <th>0</th>\n",
       "      <td>1.1</td>\n",
       "      <td>39343.0</td>\n",
       "    </tr>\n",
       "    <tr>\n",
       "      <th>1</th>\n",
       "      <td>1.3</td>\n",
       "      <td>46205.0</td>\n",
       "    </tr>\n",
       "    <tr>\n",
       "      <th>2</th>\n",
       "      <td>1.5</td>\n",
       "      <td>37731.0</td>\n",
       "    </tr>\n",
       "    <tr>\n",
       "      <th>3</th>\n",
       "      <td>2.0</td>\n",
       "      <td>43525.0</td>\n",
       "    </tr>\n",
       "    <tr>\n",
       "      <th>4</th>\n",
       "      <td>2.2</td>\n",
       "      <td>39891.0</td>\n",
       "    </tr>\n",
       "  </tbody>\n",
       "</table>\n",
       "</div>"
      ],
      "text/plain": [
       "   YearsExperience   Salary\n",
       "0              1.1  39343.0\n",
       "1              1.3  46205.0\n",
       "2              1.5  37731.0\n",
       "3              2.0  43525.0\n",
       "4              2.2  39891.0"
      ]
     },
     "execution_count": 3,
     "metadata": {},
     "output_type": "execute_result"
    }
   ],
   "source": [
    "df.head()"
   ]
  },
  {
   "cell_type": "markdown",
   "id": "b31fe2cc",
   "metadata": {
    "id": "b31fe2cc"
   },
   "source": [
    "## Splitting the dataset into the Training set and Test set"
   ]
  },
  {
   "cell_type": "code",
   "execution_count": 4,
   "id": "62062b75",
   "metadata": {
    "id": "62062b75"
   },
   "outputs": [],
   "source": [
    "from sklearn.model_selection import train_test_split\n",
    "X_train, X_test, y_train, y_test = train_test_split(X, y, test_size=0.33, random_state=0) "
   ]
  },
  {
   "cell_type": "code",
   "execution_count": 5,
   "id": "51246b36",
   "metadata": {},
   "outputs": [
    {
     "name": "stdout",
     "output_type": "stream",
     "text": [
      "[2.9] 56642.0\n",
      "[5.1] 66029.0\n",
      "[3.2] 64445.0\n",
      "[4.5] 61111.0\n",
      "[8.2] 113812.0\n",
      "[6.8] 91738.0\n",
      "[1.3] 46205.0\n",
      "[10.5] 121872.0\n",
      "[3.] 60150.0\n",
      "[2.2] 39891.0\n",
      "[5.9] 81363.0\n",
      "[6.] 93940.0\n",
      "[3.7] 57189.0\n",
      "[3.2] 54445.0\n",
      "[9.] 105582.0\n",
      "[2.] 43525.0\n",
      "[1.1] 39343.0\n",
      "[7.1] 98273.0\n",
      "[4.9] 67938.0\n",
      "[4.] 56957.0\n"
     ]
    }
   ],
   "source": [
    "for i in range(len(X_train)):\n",
    "    print(X_train[i], y_train[i])"
   ]
  },
  {
   "cell_type": "code",
   "execution_count": 6,
   "id": "9bd5d9f6",
   "metadata": {},
   "outputs": [
    {
     "name": "stdout",
     "output_type": "stream",
     "text": [
      "[1.5] 37731.0\n",
      "[10.3] 122391.0\n",
      "[4.1] 57081.0\n",
      "[3.9] 63218.0\n",
      "[9.5] 116969.0\n",
      "[8.7] 109431.0\n",
      "[9.6] 112635.0\n",
      "[4.] 55794.0\n",
      "[5.3] 83088.0\n",
      "[7.9] 101302.0\n"
     ]
    }
   ],
   "source": [
    "for i in range(len(X_test)):\n",
    "    print(X_test[i], y_test[i])"
   ]
  },
  {
   "cell_type": "markdown",
   "id": "4f9f834c",
   "metadata": {
    "id": "4f9f834c"
   },
   "source": [
    "## Training the Simple Linear Regression model on the Training set"
   ]
  },
  {
   "cell_type": "code",
   "execution_count": 14,
   "id": "0ad231fa",
   "metadata": {
    "colab": {
     "base_uri": "https://localhost:8080/"
    },
    "id": "0ad231fa",
    "outputId": "6c61405d-9ec3-4918-e0e6-4b102096cf38"
   },
   "outputs": [
    {
     "data": {
      "text/plain": [
       "0.9749154407708353"
      ]
     },
     "execution_count": 14,
     "metadata": {},
     "output_type": "execute_result"
    }
   ],
   "source": [
    "from sklearn.linear_model import LinearRegression\n",
    "reg = LinearRegression().fit(X_train,y_train)\n",
    "reg.score(X_test, y_test) #This is the accuracy of the model"
   ]
  },
  {
   "cell_type": "markdown",
   "id": "d2ba1c69",
   "metadata": {
    "id": "d2ba1c69"
   },
   "source": [
    "## Predicting the Test set results"
   ]
  },
  {
   "cell_type": "code",
   "execution_count": 8,
   "id": "07c4fd94",
   "metadata": {
    "colab": {
     "base_uri": "https://localhost:8080/"
    },
    "id": "07c4fd94",
    "outputId": "c2834a23-d7fd-45c7-c0bf-61cacd96214f"
   },
   "outputs": [
    {
     "data": {
      "text/plain": [
       "array([ 40835.10590871, 123079.39940819,  65134.55626083,  63265.36777221,\n",
       "       115602.64545369, 108125.8914992 , 116537.23969801,  64199.96201652,\n",
       "        76349.68719258, 100649.1375447 ])"
      ]
     },
     "execution_count": 8,
     "metadata": {},
     "output_type": "execute_result"
    }
   ],
   "source": [
    "y_pred = reg.predict(X_test)\n",
    "y_pred"
   ]
  },
  {
   "cell_type": "code",
   "execution_count": 9,
   "id": "5f897997",
   "metadata": {},
   "outputs": [
    {
     "name": "stdout",
     "output_type": "stream",
     "text": [
      "[1.5] 40835.105908714744 37731.0\n",
      "[10.3] 123079.39940819162 122391.0\n",
      "[4.1] 65134.556260832906 57081.0\n",
      "[3.9] 63265.36777220843 63218.0\n",
      "[9.5] 115602.64545369372 116969.0\n",
      "[8.7] 108125.89149919583 109431.0\n",
      "[9.6] 116537.23969800596 112635.0\n",
      "[4.] 64199.96201652067 55794.0\n",
      "[5.3] 76349.68719257976 83088.0\n",
      "[7.9] 100649.13754469794 101302.0\n"
     ]
    }
   ],
   "source": [
    "for i in range(len(X_test)):\n",
    "    print(X_test[i], y_pred[i],y_test[i])"
   ]
  },
  {
   "cell_type": "code",
   "execution_count": 10,
   "id": "1urq5lfUbiZN",
   "metadata": {
    "colab": {
     "base_uri": "https://localhost:8080/"
    },
    "id": "1urq5lfUbiZN",
    "outputId": "10ca24bb-4cc7-42d6-d31e-c3b7258baeae"
   },
   "outputs": [
    {
     "data": {
      "text/plain": [
       "array([ 37731., 122391.,  57081.,  63218., 116969., 109431., 112635.,\n",
       "        55794.,  83088., 101302.])"
      ]
     },
     "execution_count": 10,
     "metadata": {},
     "output_type": "execute_result"
    }
   ],
   "source": [
    "y_test"
   ]
  },
  {
   "cell_type": "markdown",
   "id": "680ddfc3",
   "metadata": {
    "id": "680ddfc3"
   },
   "source": [
    "## Visualising the Training set results"
   ]
  },
  {
   "cell_type": "code",
   "execution_count": 11,
   "id": "f1ldjviYTgee",
   "metadata": {
    "colab": {
     "base_uri": "https://localhost:8080/",
     "height": 295
    },
    "id": "f1ldjviYTgee",
    "outputId": "a3d2323d-aca9-4f01-e38d-7af91d547f47"
   },
   "outputs": [
    {
     "data": {
      "image/png": "[encoded data removed]",
      "text/plain": [
       "<Figure size 432x288 with 1 Axes>"
      ]
     },
     "metadata": {
      "needs_background": "light"
     },
     "output_type": "display_data"
    }
   ],
   "source": [
    "import matplotlib.pyplot as plt\n",
    "pred = reg.predict(X_train)\n",
    "plt.scatter(X_train, y_train)\n",
    "plt.plot(X_train, pred)\n",
    "plt.xlabel('Years of Experience')\n",
    "plt.ylabel('Salary')\n",
    "plt.title('Training set')\n",
    "plt.show()"
   ]
  },
  {
   "cell_type": "markdown",
   "id": "6ccfb37a",
   "metadata": {
    "id": "6ccfb37a"
   },
   "source": [
    "## Visualising the Test set results"
   ]
  },
  {
   "cell_type": "code",
   "execution_count": 12,
   "id": "WYVdYEwyTuyo",
   "metadata": {
    "colab": {
     "base_uri": "https://localhost:8080/",
     "height": 295
    },
    "id": "WYVdYEwyTuyo",
    "outputId": "16d770b0-df50-4d3d-86e3-78eea5cd2733"
   },
   "outputs": [
    {
     "data": {
      "image/png": "[encoded data removed]",
      "text/plain": [
       "<Figure size 432x288 with 1 Axes>"
      ]
     },
     "metadata": {
      "needs_background": "light"
     },
     "output_type": "display_data"
    }
   ],
   "source": [
    "plt.scatter(X_test, y_test)\n",
    "plt.plot(X_train, pred)\n",
    "plt.xlabel('Years of experience')\n",
    "plt.ylabel('Actual salary')\n",
    "plt.title('Testing set')\n",
    "plt.show()"
   ]
  },
  {
   "cell_type": "code",
   "execution_count": null,
   "id": "2c9a592e",
   "metadata": {},
   "outputs": [],
   "source": []
  }
 ],
 "metadata": {
  "colab": {
   "name": "simple_linear_regression.ipynb",
   "provenance": []
  },
  "kernelspec": {
   "display_name": "Python 3 (ipykernel)",
   "language": "python",
   "name": "python3"
  },
  "language_info": {
   "codemirror_mode": {
    "name": "ipython",
    "version": 3
   },
   "file_extension": ".py",
   "mimetype": "text/x-python",
   "name": "python",
   "nbconvert_exporter": "python",
   "pygments_lexer": "ipython3",
   "version": "3.9.13"
  }
 },
 "nbformat": 4,
 "nbformat_minor": 5
}
