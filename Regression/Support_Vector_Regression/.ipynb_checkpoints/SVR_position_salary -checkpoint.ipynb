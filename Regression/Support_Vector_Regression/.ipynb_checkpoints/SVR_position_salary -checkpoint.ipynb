{
 "cells": [
  {
   "cell_type": "markdown",
   "id": "319980d2",
   "metadata": {},
   "source": [
    "# Support Vector Machine"
   ]
  },
  {
   "cell_type": "markdown",
   "id": "85f77c97",
   "metadata": {},
   "source": [
    "## Importing the libraries "
   ]
  },
  {
   "cell_type": "code",
   "execution_count": 51,
   "id": "23c4e2bb",
   "metadata": {},
   "outputs": [],
   "source": [
    "import numpy as np \n",
    "import matplotlib.pyplot as plt \n",
    "import pandas as pd"
   ]
  },
  {
   "cell_type": "markdown",
   "id": "9b5018ac",
   "metadata": {},
   "source": [
    "## Importing the dataset "
   ]
  },
  {
   "cell_type": "code",
   "execution_count": 52,
   "id": "dd463bd6",
   "metadata": {
    "scrolled": false
   },
   "outputs": [
    {
     "name": "stdout",
     "output_type": "stream",
     "text": [
      "            Position  Level   Salary\n",
      "0   Business Analyst      1    45000\n",
      "1  Junior Consultant      2    50000\n",
      "2  Senior Consultant      3    60000\n",
      "3            Manager      4    80000\n",
      "4    Country Manager      5   110000\n",
      "5     Region Manager      6   150000\n",
      "6            Partner      7   200000\n",
      "7     Senior Partner      8   300000\n",
      "8            C-level      9   500000\n",
      "9                CEO     10  1000000\n"
     ]
    }
   ],
   "source": [
    "dataset = pd.read_csv('https://raw.githubusercontent.com/sohanjs111/Machine-Learning/main/Database/Position_Salaries.csv') \n",
    "X = dataset.iloc[:, 1:-1].values \n",
    "y = dataset.iloc[:, -1].values\n",
    "print(dataset)"
   ]
  },
  {
   "cell_type": "code",
   "execution_count": 53,
   "id": "20161785",
   "metadata": {},
   "outputs": [
    {
     "name": "stdout",
     "output_type": "stream",
     "text": [
      "[[ 1]\n",
      " [ 2]\n",
      " [ 3]\n",
      " [ 4]\n",
      " [ 5]\n",
      " [ 6]\n",
      " [ 7]\n",
      " [ 8]\n",
      " [ 9]\n",
      " [10]]\n"
     ]
    }
   ],
   "source": [
    "print(X)"
   ]
  },
  {
   "cell_type": "code",
   "execution_count": 54,
   "id": "ec7d94ea",
   "metadata": {},
   "outputs": [
    {
     "name": "stdout",
     "output_type": "stream",
     "text": [
      "[  45000   50000   60000   80000  110000  150000  200000  300000  500000\n",
      " 1000000]\n"
     ]
    }
   ],
   "source": [
    "print(y)"
   ]
  },
  {
   "cell_type": "code",
   "execution_count": 55,
   "id": "37c5e96f",
   "metadata": {},
   "outputs": [],
   "source": [
    "y = y.reshape(len(y),1)"
   ]
  },
  {
   "cell_type": "code",
   "execution_count": 56,
   "id": "dd39abb4",
   "metadata": {},
   "outputs": [
    {
     "name": "stdout",
     "output_type": "stream",
     "text": [
      "[[  45000]\n",
      " [  50000]\n",
      " [  60000]\n",
      " [  80000]\n",
      " [ 110000]\n",
      " [ 150000]\n",
      " [ 200000]\n",
      " [ 300000]\n",
      " [ 500000]\n",
      " [1000000]]\n"
     ]
    }
   ],
   "source": [
    "print(y)"
   ]
  },
  {
   "cell_type": "markdown",
   "id": "6014c732",
   "metadata": {},
   "source": [
    "## Feature Scaling "
   ]
  },
  {
   "cell_type": "markdown",
   "id": "af6df2a1",
   "metadata": {},
   "source": [
    "Feature scaling is a method used to normalize the range of independent variables or features of data."
   ]
  },
  {
   "cell_type": "code",
   "execution_count": 57,
   "id": "e3628926",
   "metadata": {},
   "outputs": [],
   "source": [
    "from sklearn.preprocessing import StandardScaler \n",
    "sc_X = StandardScaler() \n",
    "sc_y = StandardScaler() \n",
    "X_s = sc_X.fit_transform(X) \n",
    "y_s = sc_y.fit_transform(y)"
   ]
  },
  {
   "cell_type": "code",
   "execution_count": 58,
   "id": "651c3c31",
   "metadata": {},
   "outputs": [
    {
     "name": "stdout",
     "output_type": "stream",
     "text": [
      "   X           X_s \n",
      "[[ 1.   -1.57]\n",
      " [ 2.   -1.22]\n",
      " [ 3.   -0.87]\n",
      " [ 4.   -0.52]\n",
      " [ 5.   -0.17]\n",
      " [ 6.    0.17]\n",
      " [ 7.    0.52]\n",
      " [ 8.    0.87]\n",
      " [ 9.    1.22]\n",
      " [10.    1.57]]\n"
     ]
    }
   ],
   "source": [
    "print(\"   X           X_s \" )\n",
    "print(np.concatenate((X, X_s),1))\n"
   ]
  },
  {
   "cell_type": "code",
   "execution_count": 59,
   "id": "4cf4c879",
   "metadata": {},
   "outputs": [
    {
     "name": "stdout",
     "output_type": "stream",
     "text": [
      "   y           y_s \n",
      "[[ 4.50e+04 -7.20e-01]\n",
      " [ 5.00e+04 -7.02e-01]\n",
      " [ 6.00e+04 -6.67e-01]\n",
      " [ 8.00e+04 -5.97e-01]\n",
      " [ 1.10e+05 -4.91e-01]\n",
      " [ 1.50e+05 -3.50e-01]\n",
      " [ 2.00e+05 -1.74e-01]\n",
      " [ 3.00e+05  1.78e-01]\n",
      " [ 5.00e+05  8.82e-01]\n",
      " [ 1.00e+06  2.64e+00]]\n"
     ]
    }
   ],
   "source": [
    "print(\"   y           y_s \" )\n",
    "np.set_printoptions(precision=2)\n",
    "print(np.concatenate((y, y_s),1))"
   ]
  },
  {
   "cell_type": "markdown",
   "id": "2f4530ff",
   "metadata": {},
   "source": [
    "## Visualizing the dataset"
   ]
  },
  {
   "cell_type": "code",
   "execution_count": 60,
   "id": "a5b657b3",
   "metadata": {},
   "outputs": [
    {
     "data": {
      "image/png": "[encoded data removed]",
      "text/plain": [
       "<Figure size 432x288 with 1 Axes>"
      ]
     },
     "metadata": {
      "needs_background": "light"
     },
     "output_type": "display_data"
    }
   ],
   "source": [
    "plt.scatter(X, y_s, color = 'red') # plotting the training set\n",
    "plt.title('Scatter Plot') \n",
    "plt.xlabel('Levels') # x-axis\n",
    "plt.ylabel('Salary') # y-axis\n",
    "plt.show()"
   ]
  },
  {
   "cell_type": "markdown",
   "id": "a863185c",
   "metadata": {},
   "source": [
    "## Train the Model "
   ]
  },
  {
   "cell_type": "code",
   "execution_count": 61,
   "id": "78e4a05a",
   "metadata": {},
   "outputs": [
    {
     "name": "stderr",
     "output_type": "stream",
     "text": [
      "/Users/sohanjs/opt/anaconda3/lib/python3.9/site-packages/sklearn/utils/validation.py:993: DataConversionWarning: A column-vector y was passed when a 1d array was expected. Please change the shape of y to (n_samples, ), for example using ravel().\n",
      "  y = column_or_1d(y, warn=True)\n"
     ]
    },
    {
     "data": {
      "text/plain": [
       "SVR()"
      ]
     },
     "execution_count": 61,
     "metadata": {},
     "output_type": "execute_result"
    }
   ],
   "source": [
    "# Fitting SVR to the dataset \n",
    "from sklearn.svm import SVR \n",
    "regressor = SVR(kernel = 'rbf') \n",
    "regressor.fit(X_s, y_s)\n"
   ]
  },
  {
   "cell_type": "markdown",
   "id": "a5f5cf16",
   "metadata": {},
   "source": [
    "## Predicting a new result "
   ]
  },
  {
   "cell_type": "markdown",
   "id": "948a5ba5",
   "metadata": {},
   "source": [
    "Be careful: While predicting values of y from X;\n",
    "\n",
    "According to our dataset we have the range 1-10 levels as 'X', based on which you get a salary 'y'. \n",
    "To build the prediction model we first did feature scaling. Transform function on both X and y was used to do the feature scaling. This data was then run into our model.  \n",
    "\n",
    "**While predicting the y, remeber to use transform X and also remeber to inverse transform predicted y.** "
   ]
  },
  {
   "cell_type": "code",
   "execution_count": 62,
   "id": "e2ccaeca",
   "metadata": {},
   "outputs": [
    {
     "name": "stdout",
     "output_type": "stream",
     "text": [
      "[[170370.02]]\n"
     ]
    }
   ],
   "source": [
    "# y_pred = sc_y.inverse_transform(regressor.predict(sc_X.transform([[6.5]]))) # Expected 2-D \n",
    "y_pred = sc_y.inverse_transform(regressor.predict(sc_X.transform([[6.5]])).reshape(-1,1))\n",
    "print(y_pred)"
   ]
  },
  {
   "cell_type": "code",
   "execution_count": 63,
   "id": "d0391ff4",
   "metadata": {},
   "outputs": [
    {
     "data": {
      "image/png": "[encoded data removed]",
      "text/plain": [
       "<Figure size 432x288 with 1 Axes>"
      ]
     },
     "metadata": {
      "needs_background": "light"
     },
     "output_type": "display_data"
    }
   ],
   "source": [
    "# inverse the transformation to go back to the initial scale\n",
    "plt.scatter(sc_X.inverse_transform(X_s), sc_y.inverse_transform(y_s), color = 'red')\n",
    "plt.plot(sc_X.inverse_transform(X_s), sc_y.inverse_transform(regressor.predict(X_s).reshape(-1,1)), color = 'blue')\n",
    "# add the title to the plot\n",
    "plt.title('Support Vector Regression Model')\n",
    "# label x axis\n",
    "plt.xlabel('Position')\n",
    "# label y axis\n",
    "plt.ylabel('Salary Level')\n",
    "# print the plot\n",
    "plt.show()"
   ]
  }
 ],
 "metadata": {
  "kernelspec": {
   "display_name": "Python 3 (ipykernel)",
   "language": "python",
   "name": "python3"
  },
  "language_info": {
   "codemirror_mode": {
    "name": "ipython",
    "version": 3
   },
   "file_extension": ".py",
   "mimetype": "text/x-python",
   "name": "python",
   "nbconvert_exporter": "python",
   "pygments_lexer": "ipython3",
   "version": "3.9.12"
  },
  "vscode": {
   "interpreter": {
    "hash": "f720b0f60822cffbb0deb9d30cd6049b6d618bf1ebc4821718af789a3fb50ad4"
   }
  }
 },
 "nbformat": 4,
 "nbformat_minor": 5
}
