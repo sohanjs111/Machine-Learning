{
 "cells": [
  {
   "cell_type": "code",
   "execution_count": 3,
   "id": "69eddedd",
   "metadata": {},
   "outputs": [
    {
     "name": "stdout",
     "output_type": "stream",
     "text": [
      "Dataset:\n",
      "            Position  Level   Salary\n",
      "0   Business Analyst      1    45000\n",
      "1  Junior Consultant      2    50000\n",
      "2  Senior Consultant      3    60000\n",
      "3            Manager      4    80000\n",
      "4    Country Manager      5   110000\n",
      "5     Region Manager      6   150000\n",
      "6            Partner      7   200000\n",
      "7     Senior Partner      8   300000\n",
      "8            C-level      9   500000\n",
      "9                CEO     10  1000000\n",
      "x_p:\n",
      "[[ 1]\n",
      " [ 2]\n",
      " [ 3]\n",
      " [ 4]\n",
      " [ 5]\n",
      " [ 6]\n",
      " [ 7]\n",
      " [ 8]\n",
      " [ 9]\n",
      " [10]]\n",
      "y_p:\n",
      "[  45000   50000   60000   80000  110000  150000  200000  300000  500000\n",
      " 1000000]\n",
      "Reshape y_p:\n",
      "[[  45000]\n",
      " [  50000]\n",
      " [  60000]\n",
      " [  80000]\n",
      " [ 110000]\n",
      " [ 150000]\n",
      " [ 200000]\n",
      " [ 300000]\n",
      " [ 500000]\n",
      " [1000000]]\n",
      "Scaled X_l:\n",
      "[[-1.5666989 ]\n",
      " [-1.21854359]\n",
      " [-0.87038828]\n",
      " [-0.52223297]\n",
      " [-0.17407766]\n",
      " [ 0.17407766]\n",
      " [ 0.52223297]\n",
      " [ 0.87038828]\n",
      " [ 1.21854359]\n",
      " [ 1.5666989 ]]\n",
      "Scaled y_p:\n",
      "[[-0.72004253]\n",
      " [-0.70243757]\n",
      " [-0.66722767]\n",
      " [-0.59680786]\n",
      " [-0.49117815]\n",
      " [-0.35033854]\n",
      " [-0.17428902]\n",
      " [ 0.17781001]\n",
      " [ 0.88200808]\n",
      " [ 2.64250325]]\n",
      "Scatter-plot:\n"
     ]
    },
    {
     "data": {
      "image/png": "[encoded data removed]",
      "text/plain": [
       "<Figure size 432x288 with 1 Axes>"
      ]
     },
     "metadata": {
      "needs_background": "light"
     },
     "output_type": "display_data"
    },
    {
     "name": "stdout",
     "output_type": "stream",
     "text": [
      "Without reshape:\n",
      "[-0.27861589]\n",
      "A\n",
      "[[-0.27861589]]\n",
      "A_pred\n",
      "[[170370.0204065]]\n",
      "B_pred\n",
      "[[170370.0204065]]\n",
      "SVR Plot:\n"
     ]
    },
    {
     "name": "stderr",
     "output_type": "stream",
     "text": [
      "C:\\Users\\Anil\\AppData\\Local\\Programs\\Python\\Python310\\lib\\site-packages\\sklearn\\utils\\validation.py:1111: DataConversionWarning: A column-vector y was passed when a 1d array was expected. Please change the shape of y to (n_samples, ), for example using ravel().\n",
      "  y = column_or_1d(y, warn=True)\n"
     ]
    },
    {
     "data": {
      "image/png": "[encoded data removed]",
      "text/plain": [
       "<Figure size 432x288 with 1 Axes>"
      ]
     },
     "metadata": {
      "needs_background": "light"
     },
     "output_type": "display_data"
    }
   ],
   "source": [
    "\n",
    "# get the libraries\n",
    "import numpy as np\n",
    "import matplotlib.pyplot as plt\n",
    "import pandas as pd\n",
    "\n",
    "# get the dataset\n",
    "dataset = pd.read_csv('Position_Salaries.csv') \n",
    "# our dataset in this implementation is small and thus we can print it all instead of viewing only the end\n",
    "print(\"Dataset:\")\n",
    "print(dataset)\n",
    "\n",
    "# split the data into featutes and target variable seperately\n",
    "X_l = dataset.iloc[:, 1:-1].values # features set\n",
    "y_p = dataset.iloc[:, -1].values # set of study variable\n",
    "print(\"x_p:\")\n",
    "print(X_l)\n",
    "print(\"y_p:\")\n",
    "print(y_p)\n",
    "\n",
    "# change the dimension of y_p to 2D\n",
    "y_p = y_p.reshape(-1,1)\n",
    "# print to see if y_p was really reshaped\n",
    "print(\"Reshape y_p:\")\n",
    "print(y_p)\n",
    "\n",
    "# scale up x_l and y_p seperately to same dimension\n",
    "from sklearn.preprocessing import StandardScaler # import the StandardScalar class from preprocessing model;sklerarn\n",
    "StdS_X = StandardScaler()\n",
    "StdS_y = StandardScaler()\n",
    "X_l = StdS_X.fit_transform(X_l)\n",
    "y_p = StdS_y.fit_transform(y_p)\n",
    "# print scaled variables\n",
    "print(\"Scaled X_l:\")\n",
    "print(X_l)\n",
    "print(\"Scaled y_p:\")\n",
    "print(y_p)\n",
    "\n",
    "# plot the data to have an idea about the relationship between varaibles\n",
    "plt.scatter(X_l, y_p, color = 'red') # plotting the training set\n",
    "plt.title('Scatter Plot') # adding a tittle to our plot\n",
    "plt.xlabel('Levels') # adds a label to the x-axis\n",
    "plt.ylabel('Salary') # adds a label to the y-axis\n",
    "print(\"Scatter-plot:\")\n",
    "plt.show() # prints\n",
    "\n",
    "# implement SVR\n",
    "from sklearn.svm import SVR # import the model\n",
    "regressor = SVR(kernel = 'rbf') # create the model object\n",
    "regressor.fit(X_l, y_p) # fit the model on the data\n",
    "\n",
    "# pediction with SVR\n",
    "A=regressor.predict(StdS_X.transform([[6.5]]))\n",
    "print(\"Without reshape:\")\n",
    "print(A)\n",
    "# Convert A to 2D\n",
    "A = A.reshape(-1,1)\n",
    "print(\"A\")\n",
    "print(A)\n",
    "# Taking the inverse of the scaled value\n",
    "A_pred = StdS_y.inverse_transform(A)\n",
    "print(\"A_pred\")\n",
    "print(A_pred)\n",
    "# this transformation can be performed implicitly as follows\n",
    "B_pred = StdS_y.inverse_transform(regressor.predict(StdS_X.transform([[6.5]])).reshape(-1,1))\n",
    "print(\"B_pred\")\n",
    "print(B_pred)\n",
    "\n",
    "# Plotting SVR curve\n",
    "# inverse the transformation to go back to the initial scale\n",
    "plt.scatter(StdS_X.inverse_transform(X_l), StdS_y.inverse_transform(y_p), color = 'red')\n",
    "plt.plot(StdS_X.inverse_transform(X_l), StdS_y.inverse_transform(regressor.predict(X_l).reshape(-1,1)), color = 'blue')\n",
    "# add the title to the plot\n",
    "plt.title('Support Vector Regression Model')\n",
    "# label x axis\n",
    "plt.xlabel('Position')\n",
    "# label y axis\n",
    "plt.ylabel('Salary Level')\n",
    "# print the plot\n",
    "print(\"SVR Plot:\")\n",
    "plt.show()"
   ]
  },
  {
   "cell_type": "code",
   "execution_count": null,
   "id": "f09ba808",
   "metadata": {},
   "outputs": [],
   "source": []
  }
 ],
 "metadata": {
  "kernelspec": {
   "display_name": "Python 3 (ipykernel)",
   "language": "python",
   "name": "python3"
  },
  "language_info": {
   "codemirror_mode": {
    "name": "ipython",
    "version": 3
   },
   "file_extension": ".py",
   "mimetype": "text/x-python",
   "name": "python",
   "nbconvert_exporter": "python",
   "pygments_lexer": "ipython3",
   "version": "3.9.12"
  }
 },
 "nbformat": 4,
 "nbformat_minor": 5
}
